{
 "cells": [
  {
   "cell_type": "code",
   "execution_count": null,
   "id": "0896e845",
   "metadata": {},
   "outputs": [],
   "source": [
    "\n",
    "import numpy as np\n",
    "import matplotlib.pyplot as plt\n",
    "import panda as pd\n"
   ]
  },
  {
   "cell_type": "code",
   "execution_count": null,
   "id": "16ac16f4",
   "metadata": {},
   "outputs": [],
   "source": [
    "# taking user input for 3 variables\n",
    "prop_value = int(input(\"Enter the current value of property: \"))\n",
    "\n",
    "annual_rate = float(input(\"Enter the annual rate of appreciation: \"))\n",
    "\n",
    "\n",
    "years = int(input(\"Enter the years to stay invested in the property: \"))\n",
    "\n",
    "future_value = float()\n",
    "\n",
    "x_list = []\n",
    "y_list = []\n",
    "y_calculated = []\n",
    "\n",
    "\n"
   ]
  },
  {
   "cell_type": "code",
   "execution_count": null,
   "id": "ffa2b581",
   "metadata": {},
   "outputs": [],
   "source": [
    "# creating dataset for y axis\n",
    "for n in range(years + 1):\n",
    "\n",
    "    future_value = (1 + annual_rate)**n\n",
    "    future_value = future_value * prop_value\n",
    "    future_value = round(future_value)\n",
    "\n",
    "    y_list.append(prop_value)\n",
    "    y_calculated.append(future_value)\n"
   ]
  },
  {
   "cell_type": "code",
   "execution_count": null,
   "id": "341cf143",
   "metadata": {},
   "outputs": [],
   "source": [
    "# prepraring x and y datasets\n",
    "x = np.array(x_list).reshape((-1, 1))\n",
    "y = np.array(y_calculated)\n",
    "\n",
    "\n"
   ]
  },
  {
   "cell_type": "code",
   "execution_count": null,
   "id": "a9d7bc12",
   "metadata": {},
   "outputs": [],
   "source": [
    "# dividing into training and testing datasets\n",
    "from sklearn.model_selection import train_test_split\n",
    "\n",
    "x_train, x_test, y_train, y_test = train_test_split(x, y, test_size= 1/3 ,random_state=0)\n"
   ]
  },
  {
   "cell_type": "code",
   "execution_count": null,
   "id": "bdb969f7",
   "metadata": {},
   "outputs": [],
   "source": [
    "# developing linear regression model\n",
    "from sklearn.linear_model import LinearRegression\n",
    "\n",
    "lin_reg = LinearRegression()\n",
    "lin_reg.fit(x_train, y_train)\n",
    "\n",
    "\n"
   ]
  },
  {
   "cell_type": "code",
   "execution_count": null,
   "id": "cdcc29e5",
   "metadata": {},
   "outputs": [],
   "source": [
    "# predicting values\n",
    "y_pred = lin_reg.predict(x_test)\n",
    "\n"
   ]
  },
  {
   "cell_type": "code",
   "execution_count": null,
   "id": "2a60d352",
   "metadata": {},
   "outputs": [],
   "source": [
    "# plotting training dataset\n",
    "# shows calculated property value appreciation with time\n",
    "plt.scatter(x_train, y_train, color='red')                  # plotting the observation line\n",
    "\n",
    "plt.plot(x_train, lin_reg.predict(x_train), color='blue')   # plotting the regression line\n",
    "\n",
    "plt.show()"
   ]
  },
  {
   "cell_type": "code",
   "execution_count": null,
   "id": "0751156e",
   "metadata": {},
   "outputs": [],
   "source": [
    "# plotting testing dataset\n",
    "# shows predicted property value appreciation with time\n",
    "plt.scatter(x_test, y_test, color='red')\n",
    "plt.plot(x_train, lin_reg.predict(x_train), color='black')\n",
    "plt.show()\n",
    "\n",
    "print()\n",
    "print(\"----- Appreciation values -----\")\n",
    "print(\"Mathematical value\\tPredicted value\")\n",
    "for n in range(len(y_pred)):\n",
    "    print(y_train[n], end=\"\\t\\t\")\n",
    "    print(round(y_pred[n]))\n",
    "\n",
    "\n",
    "print()"
   ]
  },
  {
   "cell_type": "code",
   "execution_count": null,
   "id": "0b3efda8",
   "metadata": {},
   "outputs": [],
   "source": [
    "# mathematically calculating error\n",
    "calculated_train_error = float()\n",
    "for n in range(len(y_pred)):\n",
    "    diff = (y_pred[n] - y_train[n])\n",
    "    diff *= diff\n",
    "    calculated_train_error = diff\n",
    "\n",
    "calculated_train_error = calculated_train_error/len(y_pred)\n",
    "print(\"Calculated error: \", round(calculated_train_error))\n",
    "\n",
    "\n",
    "print()\n"
   ]
  },
  {
   "cell_type": "code",
   "execution_count": null,
   "id": "88c70a89",
   "metadata": {},
   "outputs": [],
   "source": [
    "# predicting error\n",
    "y_pred = y_pred.reshape((-1, 1))\n",
    "predicted_train_error = np.mean(np.square(np.array(y_pred) - np.array(y_train)))\n",
    "print(\"Predicted error : \", round(predicted_train_error))\n",
    "\n",
    "print() "
   ]
  },
  {
   "cell_type": "code",
   "execution_count": null,
   "id": "fd506a97",
   "metadata": {},
   "outputs": [],
   "source": [
    "# manipulating pandas"
   ]
  },
  {
   "cell_type": "code",
   "execution_count": null,
   "id": "f5662e3d",
   "metadata": {},
   "outputs": [],
   "source": [
    "import numpy as np\n",
    "\n",
    "import pandas as pd"
   ]
  },
  {
   "cell_type": "code",
   "execution_count": null,
   "id": "c546c62e",
   "metadata": {},
   "outputs": [],
   "source": [
    "s = pd.Series(data, index=index)"
   ]
  },
  {
   "cell_type": "code",
   "execution_count": null,
   "id": "c28a0942",
   "metadata": {},
   "outputs": [],
   "source": [
    "s = pd.Series(np.random.randn(5), index=[\"a\", \"b\", \"c\", \"d\", \"e\"])\n",
    "s"
   ]
  },
  {
   "cell_type": "code",
   "execution_count": null,
   "id": "047d0374",
   "metadata": {},
   "outputs": [],
   "source": []
  },
  {
   "cell_type": "code",
   "execution_count": null,
   "id": "177bb3a4",
   "metadata": {},
   "outputs": [],
   "source": [
    "# OBJECT CREATION\n",
    "s = pd.Series([1, 3, 5, np.nan, 6, 8])\n",
    "s"
   ]
  },
  {
   "cell_type": "code",
   "execution_count": null,
   "id": "c8ab7e3c",
   "metadata": {},
   "outputs": [],
   "source": [
    "dates = pd.date_range(\"20130101\", periods=6)\n",
    "dates"
   ]
  },
  {
   "cell_type": "code",
   "execution_count": null,
   "id": "2daea46a",
   "metadata": {},
   "outputs": [],
   "source": []
  },
  {
   "cell_type": "code",
   "execution_count": null,
   "id": "0b3804a2",
   "metadata": {},
   "outputs": [],
   "source": []
  }
 ],
 "metadata": {
  "kernelspec": {
   "display_name": "Python 3",
   "language": "python",
   "name": "python3"
  },
  "language_info": {
   "codemirror_mode": {
    "name": "ipython",
    "version": 3
   },
   "file_extension": ".py",
   "mimetype": "text/x-python",
   "name": "python",
   "nbconvert_exporter": "python",
   "pygments_lexer": "ipython3",
   "version": "3.8.8"
  }
 },
 "nbformat": 4,
 "nbformat_minor": 5
}
